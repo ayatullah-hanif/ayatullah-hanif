{
 "cells": [
  {
   "cell_type": "raw",
   "id": "5284ad4d-3530-4848-b329-bb06639cbde1",
   "metadata": {},
   "source": [
    "Automated file sorter in file explorer"
   ]
  },
  {
   "cell_type": "code",
   "execution_count": 3,
   "id": "98966706-ddbb-45c4-959c-fffd9c9de8db",
   "metadata": {},
   "outputs": [],
   "source": [
    "import os, shutil"
   ]
  },
  {
   "cell_type": "code",
   "execution_count": 36,
   "id": "c797ec1b-b112-4770-b892-8d5b9eaf779c",
   "metadata": {},
   "outputs": [],
   "source": [
    "path = r'C:\\Users\\pc\\Pictures\\Screenshots/'"
   ]
  },
  {
   "cell_type": "code",
   "execution_count": 42,
   "id": "4b0daadc-8c90-4acd-96e1-4d78f2ff0c2a",
   "metadata": {},
   "outputs": [],
   "source": [
    "file_name = os.listdir(path)"
   ]
  },
  {
   "cell_type": "code",
   "execution_count": 48,
   "id": "d1a60fc9-c066-4c54-94b8-859e621a6f6f",
   "metadata": {},
   "outputs": [
    {
     "data": {
      "text/plain": [
       "['Black Lotus (2023) (NetNaija.com).mkv',\n",
       " 'Book1.xlsx',\n",
       " 'climate-ds.csv',\n",
       " 'csv files',\n",
       " 'desktop.ini',\n",
       " 'mkv files',\n",
       " 'NURUDEEN CNC DIADEAM.png',\n",
       " 'png files',\n",
       " 'Screenshot (4).png',\n",
       " 'Screenshot (5).png',\n",
       " 'xlsx files']"
      ]
     },
     "execution_count": 48,
     "metadata": {},
     "output_type": "execute_result"
    }
   ],
   "source": [
    "file_name"
   ]
  },
  {
   "cell_type": "code",
   "execution_count": 59,
   "id": "a17bad85-cc02-49b8-a2b8-ea950a077729",
   "metadata": {},
   "outputs": [
    {
     "name": "stdout",
     "output_type": "stream",
     "text": [
      "C:\\Users\\pc\\Pictures\\Screenshots/csv files\n",
      "C:\\Users\\pc\\Pictures\\Screenshots/png files\n",
      "C:\\Users\\pc\\Pictures\\Screenshots/mkv files\n",
      "C:\\Users\\pc\\Pictures\\Screenshots/xlsx files\n"
     ]
    }
   ],
   "source": [
    "folder_name = ['csv files', 'png files', 'mkv files', 'xlsx files']\n",
    "\n",
    "for loop in range(0,4):\n",
    "    if not os.path.exists(path + folder_name[loop]):\n",
    "         print(path + folder_name[loop])\n",
    "         os.makedirs(path + folder_name[loop])\n",
    "for file in file_name:\n",
    "    if \".csv\" in file and not os.path.exists(path +'csv files/' +file):\n",
    "        shutil.move(path + file, path +'csv files/' +file)\n",
    "    elif \".png\" in file and not os.path.exists(path +'png files/' +file):\n",
    "        shutil.move(path + file, path +'png files/' +file)\n",
    "    elif \".mkv\" in file and not os.path.exists(path +'mkv files/' +file):\n",
    "        shutil.move(path + file, path +'mkv files/' +file)\n",
    "    elif \".xlsx\" in file and not os.path.exists(path +'xlsx files/' +file):\n",
    "        shutil.move(path + file, path +'xlsx files/' +file)"
   ]
  },
  {
   "cell_type": "code",
   "execution_count": null,
   "id": "1493c58d-9651-4879-b0d4-6c63aac5fb11",
   "metadata": {},
   "outputs": [],
   "source": []
  },
  {
   "cell_type": "code",
   "execution_count": null,
   "id": "5922ee3c-8d1b-493d-8613-77cfb8ca68a6",
   "metadata": {},
   "outputs": [],
   "source": []
  },
  {
   "cell_type": "code",
   "execution_count": null,
   "id": "6f9d1c1f-31f0-41dd-9007-7aeb203a3dd5",
   "metadata": {},
   "outputs": [],
   "source": []
  },
  {
   "cell_type": "code",
   "execution_count": null,
   "id": "54e79921-a82e-4fd6-90b9-7d2d16c35c64",
   "metadata": {},
   "outputs": [],
   "source": []
  },
  {
   "cell_type": "code",
   "execution_count": null,
   "id": "24f7af1c-ac0a-46dd-8f11-28aa0890e541",
   "metadata": {},
   "outputs": [],
   "source": []
  },
  {
   "cell_type": "code",
   "execution_count": null,
   "id": "54fed4f0-b6fd-4dbb-9f56-759a052746ab",
   "metadata": {},
   "outputs": [],
   "source": []
  },
  {
   "cell_type": "code",
   "execution_count": null,
   "id": "7991b61c-67e5-47a6-ad93-4ae96215c5ab",
   "metadata": {},
   "outputs": [],
   "source": []
  },
  {
   "cell_type": "code",
   "execution_count": null,
   "id": "929a7de8-8fc2-4993-b778-9a9249da5318",
   "metadata": {},
   "outputs": [],
   "source": []
  },
  {
   "cell_type": "code",
   "execution_count": null,
   "id": "e16e9a0e-a1f2-4291-ace5-d3b86875ec08",
   "metadata": {},
   "outputs": [],
   "source": []
  },
  {
   "cell_type": "code",
   "execution_count": null,
   "id": "8a0401e1-42c4-487b-9245-b9e6f18d7285",
   "metadata": {},
   "outputs": [],
   "source": []
  },
  {
   "cell_type": "code",
   "execution_count": null,
   "id": "0e76e66a-df13-4dbf-af7b-e7ce4deea5c4",
   "metadata": {},
   "outputs": [],
   "source": []
  },
  {
   "cell_type": "code",
   "execution_count": null,
   "id": "130f0a0f-5e59-47f9-8698-c6f0da9c9ba9",
   "metadata": {},
   "outputs": [],
   "source": []
  },
  {
   "cell_type": "code",
   "execution_count": null,
   "id": "97bb8acb-81f8-4b0c-a497-681f114fdf24",
   "metadata": {},
   "outputs": [],
   "source": []
  },
  {
   "cell_type": "code",
   "execution_count": null,
   "id": "ba88f79f-4a4e-4266-9198-fbe0363ebe2f",
   "metadata": {},
   "outputs": [],
   "source": []
  },
  {
   "cell_type": "code",
   "execution_count": null,
   "id": "f9d765fe-72bb-4e48-b100-8107e6fc811e",
   "metadata": {},
   "outputs": [],
   "source": []
  },
  {
   "cell_type": "code",
   "execution_count": null,
   "id": "969cdbad-39ae-453b-95fa-a06716fb5d28",
   "metadata": {},
   "outputs": [],
   "source": []
  },
  {
   "cell_type": "code",
   "execution_count": null,
   "id": "c18b19ca-258d-4a40-a629-b5131ac3bdd8",
   "metadata": {},
   "outputs": [],
   "source": []
  },
  {
   "cell_type": "code",
   "execution_count": null,
   "id": "e51de6f1-6c52-4b03-bf12-85321b3f7d2b",
   "metadata": {},
   "outputs": [],
   "source": []
  },
  {
   "cell_type": "code",
   "execution_count": null,
   "id": "2fadee4f-face-4c45-8acd-43c52961a7d2",
   "metadata": {},
   "outputs": [],
   "source": []
  }
 ],
 "metadata": {
  "kernelspec": {
   "display_name": "Python 3 (ipykernel)",
   "language": "python",
   "name": "python3"
  },
  "language_info": {
   "codemirror_mode": {
    "name": "ipython",
    "version": 3
   },
   "file_extension": ".py",
   "mimetype": "text/x-python",
   "name": "python",
   "nbconvert_exporter": "python",
   "pygments_lexer": "ipython3",
   "version": "3.12.4"
  }
 },
 "nbformat": 4,
 "nbformat_minor": 5
}
