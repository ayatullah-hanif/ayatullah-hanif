{
 "cells": [
  {
   "cell_type": "markdown",
   "id": "b5a8fbc8-577e-42de-a42c-33285be56bed",
   "metadata": {},
   "source": [
    "BMI CALCLATOR"
   ]
  },
  {
   "cell_type": "code",
   "execution_count": null,
   "id": "6dbe71cc-6c68-40fd-a7a9-ea80faad9720",
   "metadata": {},
   "outputs": [],
   "source": [
    "#BMI = (weight in pound x 703)/ (height in inches x height in inches)"
   ]
  },
  {
   "cell_type": "code",
   "execution_count": null,
   "id": "1cacca9c-18cd-4b07-91d5-e84e809846b4",
   "metadata": {},
   "outputs": [
    {
     "name": "stdin",
     "output_type": "stream",
     "text": [
      "Enter your name here Ayatullah hanif\n",
      "Enter your weight in pounds:   185\n",
      "Enter your height in pounds:   69\n"
     ]
    },
    {
     "name": "stdout",
     "output_type": "stream",
     "text": [
      "27.31674018063432\n",
      "Ayatullah hanif, you are over weight. \n"
     ]
    }
   ],
   "source": [
    "Name = input(\"Enter your name here\")\n",
    "weight = int(input(\"Enter your weight in pounds:  \"))\n",
    "height = int(input(\"Enter your height in pounds:  \"))\n",
    "BMI = (weight * 703)/ (height * height )\n",
    "\n",
    "print(BMI)\n",
    "\n",
    "if BMI > 0:\n",
    "    if BMI < 18.5:\n",
    "        print(Name +\", you are underweight. \")\n",
    "    elif BMI <= 24.9:\n",
    "        print(Name +\", you are normal weight. \")\n",
    "    elif BMI <= 29.9:\n",
    "        print(Name +\", you are over weight. \")\n",
    "    elif BMI <= 34.9:\n",
    "        print(Name +\", you are obese. \")\n",
    "    elif BMI <= 39.9:\n",
    "        print(Name =\", you are severely obese. \")\n",
    "    else:\n",
    "        print(Name +\", you are Morbidly obese\")\n",
    "else:\n",
    "    print(\"Enter a valid input...\")"
   ]
  },
  {
   "cell_type": "code",
   "execution_count": 3,
   "id": "5a43f607-ff87-4fe6-97d6-8fed90ada1e2",
   "metadata": {},
   "outputs": [
    {
     "name": "stdout",
     "output_type": "stream",
     "text": [
      "170\n"
     ]
    }
   ],
   "source": [
    "print(weight)"
   ]
  },
  {
   "cell_type": "code",
   "execution_count": null,
   "id": "de62ff06-1ece-4343-bd65-4164c9952a0e",
   "metadata": {},
   "outputs": [],
   "source": [
    "# under 18.5 - underweight - minimal\n",
    "# 18.5 - 24.9 - Normal weight - minimal\n",
    "# 25 - 29.9 - Overweight - increased\n",
    "# 30 - 34.9 - Obese - High\n",
    "# 35 - 39.9 - Severely obese - Very high\n",
    "# 40 and over - Morbidly obese - Extremely high"
   ]
  },
  {
   "cell_type": "code",
   "execution_count": 40,
   "id": "b0a30c5c-87e8-4f8c-92d8-bd22a4206cc5",
   "metadata": {},
   "outputs": [
    {
     "name": "stdout",
     "output_type": "stream",
     "text": [
      "Ayatullah, you are over weight. \n"
     ]
    }
   ],
   "source": [
    "if BMI > 0:\n",
    "    if BMI < 18.5:\n",
    "        print(Name +\", you are underweight. \")\n",
    "    elif BMI <= 24.9:\n",
    "        print(Name +\", you are normal weight. \")\n",
    "    elif BMI <= 29.9:\n",
    "        print(Name +\", you are over weight. \")\n",
    "    elif BMI <= 34.9:\n",
    "        print(Name +\", you are obese. \")\n",
    "    elif BMI <= 39.9:\n",
    "        print(Name =\", you are severely obese. \")\n",
    "    else:\n",
    "        print(Name +\", you are Morbidly obese\")\n",
    "else:\n",
    "    print(\"Enter a valid input...\")"
   ]
  },
  {
   "cell_type": "code",
   "execution_count": null,
   "id": "d651d767-ecb6-47b5-9b4d-d7592366636e",
   "metadata": {},
   "outputs": [],
   "source": []
  },
  {
   "cell_type": "code",
   "execution_count": null,
   "id": "7fb0fe4e-52e9-48d2-9e6f-8c9d44d9f4ae",
   "metadata": {},
   "outputs": [],
   "source": []
  },
  {
   "cell_type": "code",
   "execution_count": null,
   "id": "bc1786a3-e069-4db4-b3fc-7af7ee127335",
   "metadata": {},
   "outputs": [],
   "source": []
  },
  {
   "cell_type": "code",
   "execution_count": null,
   "id": "7ec08492-f856-4d63-aa0d-7f7d2e4f95e8",
   "metadata": {},
   "outputs": [],
   "source": []
  },
  {
   "cell_type": "code",
   "execution_count": null,
   "id": "a55db11f-9a9e-4fd9-a067-55cd767df894",
   "metadata": {},
   "outputs": [],
   "source": []
  },
  {
   "cell_type": "code",
   "execution_count": null,
   "id": "63fa3296-c16d-44d6-b0d4-cabfe9cfc059",
   "metadata": {},
   "outputs": [],
   "source": []
  },
  {
   "cell_type": "code",
   "execution_count": null,
   "id": "64b6fd9d-94bd-4bfe-9737-2b5af9bfdb09",
   "metadata": {},
   "outputs": [],
   "source": []
  },
  {
   "cell_type": "code",
   "execution_count": null,
   "id": "89e7374c-a320-4cbd-85e5-dc8a924e2746",
   "metadata": {},
   "outputs": [],
   "source": []
  },
  {
   "cell_type": "code",
   "execution_count": null,
   "id": "36f9c0da-8913-40ff-83ed-2f597c3e29f4",
   "metadata": {},
   "outputs": [],
   "source": []
  },
  {
   "cell_type": "code",
   "execution_count": null,
   "id": "86c07878-e9a7-4c30-8783-d5dcd2757b27",
   "metadata": {},
   "outputs": [],
   "source": []
  },
  {
   "cell_type": "code",
   "execution_count": null,
   "id": "fca7e681-a85f-4f4f-a46b-1bb6f0800118",
   "metadata": {},
   "outputs": [],
   "source": []
  },
  {
   "cell_type": "code",
   "execution_count": null,
   "id": "40e9ebd9-dbbb-46fa-8826-741b26af8ce0",
   "metadata": {},
   "outputs": [],
   "source": []
  },
  {
   "cell_type": "code",
   "execution_count": null,
   "id": "4ed16da7-f771-4c86-96c7-1371f1885abe",
   "metadata": {},
   "outputs": [],
   "source": []
  },
  {
   "cell_type": "code",
   "execution_count": null,
   "id": "b80d9d17-d96e-4a70-97b5-339df271586c",
   "metadata": {},
   "outputs": [],
   "source": []
  },
  {
   "cell_type": "code",
   "execution_count": null,
   "id": "82ed04a5-be7b-444c-afed-00274c6af862",
   "metadata": {},
   "outputs": [],
   "source": []
  },
  {
   "cell_type": "code",
   "execution_count": null,
   "id": "a302ab15-caba-44cf-bd78-0a1d588bfea0",
   "metadata": {},
   "outputs": [],
   "source": []
  },
  {
   "cell_type": "code",
   "execution_count": null,
   "id": "48c365ab-85ec-404d-9122-68f1bf0a7dc7",
   "metadata": {},
   "outputs": [],
   "source": []
  },
  {
   "cell_type": "code",
   "execution_count": null,
   "id": "e8380f86-601d-4c31-a719-227ff6080972",
   "metadata": {},
   "outputs": [],
   "source": []
  },
  {
   "cell_type": "code",
   "execution_count": null,
   "id": "14489dfd-5284-4f86-a4ac-e9295555fa53",
   "metadata": {},
   "outputs": [],
   "source": []
  },
  {
   "cell_type": "code",
   "execution_count": null,
   "id": "3300af54-1600-4233-9c4f-86ca700345e3",
   "metadata": {},
   "outputs": [],
   "source": []
  },
  {
   "cell_type": "code",
   "execution_count": null,
   "id": "d4874708-8723-4275-8539-5e1fc2c2982e",
   "metadata": {},
   "outputs": [],
   "source": []
  },
  {
   "cell_type": "code",
   "execution_count": null,
   "id": "038f7f23-6eb3-4f0f-9071-82d53082500b",
   "metadata": {},
   "outputs": [],
   "source": []
  },
  {
   "cell_type": "code",
   "execution_count": null,
   "id": "217b0c10-2528-4edd-a4f5-fa0936610839",
   "metadata": {},
   "outputs": [],
   "source": []
  },
  {
   "cell_type": "code",
   "execution_count": null,
   "id": "541049e5-047c-4532-8c96-092105387154",
   "metadata": {},
   "outputs": [],
   "source": []
  },
  {
   "cell_type": "code",
   "execution_count": null,
   "id": "c3a76964-0ab4-4611-9594-5d8be9a2fc73",
   "metadata": {},
   "outputs": [],
   "source": []
  },
  {
   "cell_type": "code",
   "execution_count": null,
   "id": "3597dbbe-5455-4c17-8b31-d0aaf549462a",
   "metadata": {},
   "outputs": [],
   "source": []
  },
  {
   "cell_type": "code",
   "execution_count": null,
   "id": "cd8b796d-d7b5-4e37-867a-6bcb15b2da3f",
   "metadata": {},
   "outputs": [],
   "source": []
  },
  {
   "cell_type": "code",
   "execution_count": null,
   "id": "face0712-4fe4-4bbd-aff8-57342018cf24",
   "metadata": {},
   "outputs": [],
   "source": []
  },
  {
   "cell_type": "code",
   "execution_count": null,
   "id": "809465ff-b4e4-401e-b31a-48c4172ef69c",
   "metadata": {},
   "outputs": [],
   "source": []
  },
  {
   "cell_type": "code",
   "execution_count": null,
   "id": "3a11b48a-87e9-4e83-99fe-9dccdc00c486",
   "metadata": {},
   "outputs": [],
   "source": []
  },
  {
   "cell_type": "code",
   "execution_count": null,
   "id": "dffec63a-b242-4e28-887d-9daac0ac46e5",
   "metadata": {},
   "outputs": [],
   "source": []
  }
 ],
 "metadata": {
  "kernelspec": {
   "display_name": "Python 3 (ipykernel)",
   "language": "python",
   "name": "python3"
  },
  "language_info": {
   "codemirror_mode": {
    "name": "ipython",
    "version": 3
   },
   "file_extension": ".py",
   "mimetype": "text/x-python",
   "name": "python",
   "nbconvert_exporter": "python",
   "pygments_lexer": "ipython3",
   "version": "3.12.4"
  }
 },
 "nbformat": 4,
 "nbformat_minor": 5
}
